{
 "cells": [
  {
   "cell_type": "markdown",
   "id": "b205c0a5",
   "metadata": {},
   "source": [
    "Week 2 of Mathematics & statistics in python"
   ]
  },
  {
   "cell_type": "markdown",
   "id": "4825cdaa",
   "metadata": {},
   "source": [
    "Derivative"
   ]
  },
  {
   "cell_type": "code",
   "execution_count": null,
   "id": "5d1ed663",
   "metadata": {},
   "outputs": [
    {
     "name": "stdout",
     "output_type": "stream",
     "text": [
      "The derivative of the function is: 5 - 1.6094379124341*0.2**x\n",
      "Snelheden waarbij kwadratisch deel gelijk is aan constante: [-2.88675134594813*I, 2.88675134594813*I]\n",
      "The derivative is zero at the following x-values: [-0.704316027570529]\n",
      "The y-values of these x-values are: [-0.414905465054584]\n"
     ]
    }
   ],
   "source": [
    "#%pip install sympy\n",
    "import sympy \n",
    "from sympy import symbols, diff, solve\n",
    "\n",
    "x = symbols('x') # declare the variable\n",
    "f = x**2 # define the function\n",
    "dx_f = diff(f, x) # compute and print the derivative\n",
    "print('The derivative of the function is:', dx_f) # result = 2*x\n",
    "# Use subs() to replace x by the value 2 in derivative function dx_f\n",
    "dx_f_2 = dx_f.subs(x, 2)\n",
    "print(f'The value of the derivative at x = 2 is: {dx_f_2}.')\n",
    "\n",
    "# What is the maximum value of the function?\n",
    "x_values_maxima = solve(dx_f, x)\n",
    "print(\"The derivative is zero at the following x-values:\", x_values_maxima)\n",
    "y_values_maxima = [f.subs(x, points) for points in x_values_maxima]\n",
    "print(\"The y-values of these x-values are:\", y_values_maxima)"
   ]
  },
  {
   "cell_type": "code",
   "execution_count": 12,
   "id": "60f0d8c2",
   "metadata": {},
   "outputs": [
    {
     "name": "stdout",
     "output_type": "stream",
     "text": [
      "The derivative of the function is: 5 - 1.6094379124341*0.2**x\n",
      "Snelheden waarbij kwadratisch deel gelijk is aan constante: [-2.88675134594813*I, 2.88675134594813*I]\n"
     ]
    }
   ],
   "source": [
    "import sympy \n",
    "from sympy import symbols, diff, solve\n",
    "\n",
    "x = symbols('x') # declare the variable\n",
    "f = 5*x + 0.2**x # define the function\n",
    "dx_f = diff(f, x) # compute and print the derivative\n",
    "print('The derivative of the function is:', dx_f)\n",
    "\n",
    "x_threshold = solve(5 + 0.6*x**2 , x)\n",
    "print(\"Snelheden waarbij kwadratisch deel gelijk is aan constante:\", x_threshold)"
   ]
  },
  {
   "cell_type": "markdown",
   "id": "1f3257f5",
   "metadata": {},
   "source": [
    "Integrals"
   ]
  },
  {
   "cell_type": "code",
   "execution_count": 16,
   "id": "364b5b6e",
   "metadata": {},
   "outputs": [
    {
     "name": "stdout",
     "output_type": "stream",
     "text": [
      "Total demand over one week: 1377.2398349541459 units\n"
     ]
    }
   ],
   "source": [
    "#INTEGRALS EXAMPLE – ACCUMULATED DEMAND (CONT.)\n",
    "#What is the total demand for the gadgets in the coming 30 days?\n",
    "#18\n",
    "import numpy as np\n",
    "from scipy.integrate import quad\n",
    "\n",
    "# Define the function daily_demand\n",
    "def daily_demand(t):\n",
    "\treturn 45 + 20 * np.sin((2 * np.pi / 7) * t)\n",
    "\n",
    "# Compute the integral of the daily demand from day 0 to 30\n",
    "integral, error = quad(daily_demand, 0, 30)\n",
    "# Print the result\n",
    "print(f'Total demand over one week: {integral} units')"
   ]
  },
  {
   "cell_type": "markdown",
   "id": "281b61bc",
   "metadata": {},
   "source": [
    "Probability "
   ]
  },
  {
   "cell_type": "code",
   "execution_count": 17,
   "id": "5f8e476b",
   "metadata": {},
   "outputs": [
    {
     "name": "stdout",
     "output_type": "stream",
     "text": [
      "Probability of a profit: 0.8930\n",
      "Probability of a loss: 0.1070\n"
     ]
    }
   ],
   "source": [
    "# Probabilities\n",
    "p_home = 0.06\n",
    "p_car = 0.05\n",
    "\n",
    "# Probability of a loss (claim on home OR car insurance)\n",
    "p_loss = p_home + p_car - (p_home * p_car)\n",
    "\n",
    "# Probability of a profit (no claims at all)\n",
    "p_profit = 1 - p_loss\n",
    "print(f'Probability of a profit: {p_profit:.4f}')\n",
    "print(f'Probability of a loss: {p_loss:.4f}')"
   ]
  },
  {
   "cell_type": "markdown",
   "id": "8a2acac0",
   "metadata": {},
   "source": [
    "Conditinal probability"
   ]
  },
  {
   "cell_type": "code",
   "execution_count": 19,
   "id": "ad72486b",
   "metadata": {},
   "outputs": [
    {
     "name": "stdout",
     "output_type": "stream",
     "text": [
      "Probability that a randomly selected applicant is hired: 0.2100\n"
     ]
    }
   ],
   "source": [
    "Master_degree = 0.2\n",
    "Bachlor_degree = 0.3\n",
    "neither_degree = 0.5\n",
    "\n",
    "Master_hired = 0.30\n",
    "Bachlor_hired = 0.25\n",
    "neither_hired = 0.15\n",
    "\n",
    "# Probability that a randomly selected applicant is hired\n",
    "p_hired = (Master_degree * Master_hired) + (Bachlor_degree * Bachlor_hired) + (neither_degree * neither_hired)\n",
    "print(f'Probability that a randomly selected applicant is hired: {p_hired:.4f}')"
   ]
  }
 ],
 "metadata": {
  "kernelspec": {
   "display_name": "Python 3",
   "language": "python",
   "name": "python3"
  },
  "language_info": {
   "codemirror_mode": {
    "name": "ipython",
    "version": 3
   },
   "file_extension": ".py",
   "mimetype": "text/x-python",
   "name": "python",
   "nbconvert_exporter": "python",
   "pygments_lexer": "ipython3",
   "version": "3.13.7"
  }
 },
 "nbformat": 4,
 "nbformat_minor": 5
}
