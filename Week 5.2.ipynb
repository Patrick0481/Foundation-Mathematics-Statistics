{
 "cells": [
  {
   "cell_type": "code",
   "execution_count": 5,
   "id": "daf9e3ba",
   "metadata": {},
   "outputs": [
    {
     "name": "stdout",
     "output_type": "stream",
     "text": [
      "Mean length of FMSR students: 178.59\n",
      "95% Confidence Interval: (173.59, 183.58)\n",
      "Margin of Error: 5.00\n",
      "\n",
      "Interpretation: We are 95% confident that the true average length of all FMSR students (not just in the sample) lies within this interval.\n"
     ]
    }
   ],
   "source": [
    "import pandas as pd\n",
    "import numpy as np\n",
    "from scipy import stats\n",
    "\n",
    "# Load your dataset\n",
    "url = 'https://github.com/Patrick0481/Foundation-Mathematics-Statistics/raw/refs/heads/main/minor_survey.xlsx'\n",
    "data = pd.read_excel(url)\n",
    "#data = data.dropna() #drop missing values\n",
    "\n",
    "\n",
    "# Get the 'length' values\n",
    "lengths = data['length'].dropna()\n",
    "\n",
    "# 1. Mean length\n",
    "mean_length = np.mean(lengths)\n",
    "\n",
    "# 2. 95% Confidence interval\n",
    "confidence_level = 0.95\n",
    "n = len(lengths)\n",
    "std_err = stats.sem(lengths)  # Standard error of the mean\n",
    "t_crit = stats.t.ppf((1 + confidence_level) / 2, df=n-1)  # t-critical value\n",
    "margin_of_error = t_crit * std_err\n",
    "ci_lower = mean_length - margin_of_error\n",
    "ci_upper = mean_length + margin_of_error\n",
    "\n",
    "# 3. Margin of error (already computed)\n",
    "# margin_of_error\n",
    "\n",
    "# 4. Results interpretation\n",
    "print(f\"Mean length of FMSR students: {mean_length:.2f}\")\n",
    "print(f\"95% Confidence Interval: ({ci_lower:.2f}, {ci_upper:.2f})\")\n",
    "print(f\"Margin of Error: {margin_of_error:.2f}\")\n",
    "print(\"\\nInterpretation: We are 95% confident that the true average length of all FMSR students (not just in the sample) lies within this interval.\")\n"
   ]
  },
  {
   "cell_type": "code",
   "execution_count": null,
   "id": "66bebe09",
   "metadata": {},
   "outputs": [
    {
     "name": "stdout",
     "output_type": "stream",
     "text": [
      "Sample mean = 8.29\n",
      "T-statistic = 3.944\n",
      "P-value = 0.001\n",
      "Reject H₀: The mean grade is significantly different from 7.5.\n"
     ]
    }
   ],
   "source": [
    "# Use the already loaded 'data' DataFrame and the correct column for grades\n",
    "grades = data['expected_grade'].dropna() # Drop missing values\n",
    "mu_0 = 7.5 # Hypothesized population mean\n",
    "\n",
    "# One-sample t-test\n",
    "t_stat, p_value = stats.ttest_1samp(grades, mu_0) # Two-tailed test\n",
    "\n",
    "print(f\"Sample mean = {np.mean(grades):.2f}\")\n",
    "print(f\"T-statistic = {t_stat:.3f}\")\n",
    "print(f\"P-value = {p_value:.3f}\")\n",
    "\n",
    "# Decision rule\n",
    "alpha = 0.05\n",
    "if p_value < alpha:\n",
    "    print(\"Reject H₀: The mean grade is significantly different from 7.5.\")\n",
    "else:\n",
    "    print(\"Fail to reject H₀: The mean grade is not significantly different from 7.5.\")"
   ]
  }
 ],
 "metadata": {
  "kernelspec": {
   "display_name": "Python 3",
   "language": "python",
   "name": "python3"
  },
  "language_info": {
   "codemirror_mode": {
    "name": "ipython",
    "version": 3
   },
   "file_extension": ".py",
   "mimetype": "text/x-python",
   "name": "python",
   "nbconvert_exporter": "python",
   "pygments_lexer": "ipython3",
   "version": "3.13.7"
  }
 },
 "nbformat": 4,
 "nbformat_minor": 5
}
