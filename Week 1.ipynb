{
 "cells": [
  {
   "cell_type": "markdown",
   "id": "e7fab281",
   "metadata": {},
   "source": [
    "Week 1 "
   ]
  },
  {
   "cell_type": "markdown",
   "id": "680a464c",
   "metadata": {},
   "source": [
    "Order of operations exercise"
   ]
  },
  {
   "cell_type": "code",
   "execution_count": 6,
   "id": "74aa1ed2",
   "metadata": {},
   "outputs": [
    {
     "name": "stdout",
     "output_type": "stream",
     "text": [
      "-23.0\n"
     ]
    }
   ],
   "source": [
    "result = 2 + 3**2 - (2 * (4 + (4 * 2)**2)) / ((6 / 3) * 2)\n",
    "print(result)"
   ]
  },
  {
   "cell_type": "code",
   "execution_count": 8,
   "id": "f1af082b",
   "metadata": {},
   "outputs": [
    {
     "data": {
      "text/plain": [
       "89.0"
      ]
     },
     "execution_count": 8,
     "metadata": {},
     "output_type": "execute_result"
    }
   ],
   "source": [
    "import math\n",
    "math.sqrt(7921)\n",
    "\n",
    "from math import sqrt\n",
    "sqrt(7921)"
   ]
  }
 ],
 "metadata": {
  "kernelspec": {
   "display_name": "Python 3",
   "language": "python",
   "name": "python3"
  },
  "language_info": {
   "codemirror_mode": {
    "name": "ipython",
    "version": 3
   },
   "file_extension": ".py",
   "mimetype": "text/x-python",
   "name": "python",
   "nbconvert_exporter": "python",
   "pygments_lexer": "ipython3",
   "version": "3.13.7"
  }
 },
 "nbformat": 4,
 "nbformat_minor": 5
}
